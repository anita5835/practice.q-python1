{
 "cells": [
  {
   "cell_type": "code",
   "execution_count": 14,
   "id": "03b0dfdd-e189-4b58-b679-4d18db71bd7c",
   "metadata": {},
   "outputs": [
    {
     "name": "stdout",
     "output_type": "stream",
     "text": [
      "<__main__.Student object at 0x000001E79C1B5D30>\n",
      "adding new data\n",
      "anita\n",
      "<__main__.Student object at 0x000001E79C7C4410>\n",
      "adding new data\n",
      "lakshita\n"
     ]
    }
   ],
   "source": [
    "class Student:\n",
    "    def __init__(self,fullname):\n",
    "        self.name=fullname  # name is a variable in class which stores the value of fullname\n",
    "        print(self)  #self refers to the current instance of a class,used to access variables that belongs to the class\n",
    "        print(\"adding new data\") #we can store different paramaters and values using self\n",
    "s1=Student(\"anita\")\n",
    "print(s1.name)\n",
    "\n",
    "s2=Student(\"lakshita\")\n",
    "print(s2.name)"
   ]
  }
 ],
 "metadata": {
  "kernelspec": {
   "display_name": "Python 3 (ipykernel)",
   "language": "python",
   "name": "python3"
  },
  "language_info": {
   "codemirror_mode": {
    "name": "ipython",
    "version": 3
   },
   "file_extension": ".py",
   "mimetype": "text/x-python",
   "name": "python",
   "nbconvert_exporter": "python",
   "pygments_lexer": "ipython3",
   "version": "3.13.0"
  }
 },
 "nbformat": 4,
 "nbformat_minor": 5
}
